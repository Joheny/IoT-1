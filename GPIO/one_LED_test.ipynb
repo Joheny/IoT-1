{
 "cells": [
  {
   "cell_type": "code",
   "execution_count": 1,
   "metadata": {
    "collapsed": true
   },
   "outputs": [],
   "source": [
    "import RPi.GPIO as GPIO\n",
    "import time"
   ]
  },
  {
   "cell_type": "code",
   "execution_count": 2,
   "metadata": {
    "collapsed": true
   },
   "outputs": [],
   "source": [
    "board_pin = 18\n",
    "gpio_pin = 24"
   ]
  },
  {
   "cell_type": "code",
   "execution_count": 3,
   "metadata": {
    "collapsed": true
   },
   "outputs": [],
   "source": [
    "#Using Board mode. Count the pin in the laid out order\n",
    "def board_setup():\n",
    "    GPIO.setmode(GPIO.BOARD)\n",
    "    GPIO.setup(board_pin,GPIO.OUT)"
   ]
  },
  {
   "cell_type": "code",
   "execution_count": 4,
   "metadata": {
    "collapsed": true
   },
   "outputs": [],
   "source": [
    "#For GPIO numbering, use BCM mode\n",
    "def BCM_setup():\n",
    "    GPIO.setmode(GPIO.BCM)\n",
    "    GPIO.setup(gpio_pin,GPIO.OUT)"
   ]
  },
  {
   "cell_type": "code",
   "execution_count": 5,
   "metadata": {
    "collapsed": true
   },
   "outputs": [],
   "source": [
    "def board_piloop():\n",
    "    try:\n",
    "        while True:\n",
    "            GPIO.output(board_pin,GPIO.HIGH)\n",
    "            time.sleep(1)\n",
    "            GPIO.output(board_pin,GPIO.LOW)\n",
    "            time.sleep(1)\n",
    "    except KeyboardInterrupt:\n",
    "        print \"Keyboad interrupt occured\"\n",
    "    except:\n",
    "        print \"Other type of interrupt occured\"\n",
    "    finally:\n",
    "        GPIO.cleanup()\n",
    "            "
   ]
  },
  {
   "cell_type": "code",
   "execution_count": 6,
   "metadata": {
    "collapsed": true
   },
   "outputs": [],
   "source": [
    "def BCM_piloop():\n",
    "    try:\n",
    "        while True:\n",
    "            GPIO.output(gpio_pin,GPIO.HIGH)\n",
    "            time.sleep(1)\n",
    "            GPIO.output(gpio_pin,GPIO.LOW)\n",
    "            time.sleep(1)\n",
    "    except KeyboardInterrupt:\n",
    "        print \"Keyboad interrupt occured\"\n",
    "    except:\n",
    "        print \"Other type of interrupt occured\"\n",
    "    finally:\n",
    "        GPIO.cleanup()"
   ]
  },
  {
   "cell_type": "code",
   "execution_count": 7,
   "metadata": {
    "collapsed": true
   },
   "outputs": [],
   "source": [
    "def board_main():\n",
    "    board_setup()\n",
    "    board_piloop()"
   ]
  },
  {
   "cell_type": "code",
   "execution_count": 8,
   "metadata": {
    "collapsed": true
   },
   "outputs": [],
   "source": [
    "def gpio_main():\n",
    "    BCM_setup()\n",
    "    BCM_piloop()"
   ]
  },
  {
   "cell_type": "code",
   "execution_count": null,
   "metadata": {
    "collapsed": false
   },
   "outputs": [],
   "source": [
    "#Calling Board main - Use either this or other in the next cell\n",
    "if __name__ == \"__main__\":\n",
    "    board_main()"
   ]
  },
  {
   "cell_type": "code",
   "execution_count": null,
   "metadata": {
    "collapsed": false
   },
   "outputs": [],
   "source": [
    "if __name__ == \"__main__\":\n",
    "    gpio_main()"
   ]
  },
  {
   "cell_type": "code",
   "execution_count": 9,
   "metadata": {
    "collapsed": true
   },
   "outputs": [],
   "source": []
  },
  {
   "cell_type": "code",
   "execution_count": null,
   "metadata": {
    "collapsed": false
   },
   "outputs": [],
   "source": []
  },
  {
   "cell_type": "code",
   "execution_count": null,
   "metadata": {
    "collapsed": true
   },
   "outputs": [],
   "source": []
  }
 ],
 "metadata": {
  "kernelspec": {
   "display_name": "Python 2",
   "language": "python",
   "name": "python2"
  },
  "language_info": {
   "codemirror_mode": {
    "name": "ipython",
    "version": 2
   },
   "file_extension": ".py",
   "mimetype": "text/x-python",
   "name": "python",
   "nbconvert_exporter": "python",
   "pygments_lexer": "ipython2",
   "version": "2.7.3"
  }
 },
 "nbformat": 4,
 "nbformat_minor": 0
}
