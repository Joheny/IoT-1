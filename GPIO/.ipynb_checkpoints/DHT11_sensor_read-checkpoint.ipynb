{
 "cells": [
  {
   "cell_type": "code",
   "execution_count": 11,
   "metadata": {
    "collapsed": true
   },
   "outputs": [],
   "source": [
    "#Clone the library from https://github.com/adafruit/Adafruit_Python_DHT\n",
    "#Follow the steps mentioned there\n",
    "import Adafruit_DHT\n",
    "import time"
   ]
  },
  {
   "cell_type": "code",
   "execution_count": 12,
   "metadata": {
    "collapsed": true
   },
   "outputs": [],
   "source": [
    "def setup():\n",
    "    #Access the sensor\n",
    "    sensor = Adafruit_DHT.DHT11\n",
    "    #This is BCM pin. Don't use board pin value which does not work here\n",
    "    pin = 24 #Equivalent Board_pin value is 18\n",
    "    return (sensor,pin)"
   ]
  },
  {
   "cell_type": "code",
   "execution_count": 13,
   "metadata": {
    "collapsed": true
   },
   "outputs": [],
   "source": [
    "def loop(sensor, pin):\n",
    "    try:\n",
    "        while True:\n",
    "            # Try to grab a sensor reading.  Use the read_retry method which will retry up\n",
    "            # to 15 times to get a sensor reading (waiting 2 seconds between each retry).\n",
    "            humidity, temperature = Adafruit_DHT.read_retry(sensor, pin)\n",
    "            if humidity is not None and temperature is not None:\n",
    "                print 'Temp={0:0.1f}*C, {1:0.1f}*F Humidity={2:0.1f}%'.format(temperature, temperature*1.8+32, humidity)\n",
    "            else:\n",
    "                print 'Failed to get reading. Try again!'\n",
    "            time.sleep(60)\n",
    "    except KeyboardInterrupt:\n",
    "        print \"Keyboad interrupt occured\"\n",
    "    except:\n",
    "        print \"Other type of interrupt occured\"\n",
    "    finally:\n",
    "        print \"Executing GPIO cleanup. No code is available\""
   ]
  },
  {
   "cell_type": "code",
   "execution_count": 14,
   "metadata": {
    "collapsed": true
   },
   "outputs": [],
   "source": [
    "def main():\n",
    "    sensor,pin = setup();\n",
    "    loop(sensor,pin);"
   ]
  },
  {
   "cell_type": "code",
   "execution_count": null,
   "metadata": {
    "collapsed": false
   },
   "outputs": [],
   "source": [
    "if __name__ == \"__main__\":\n",
    "    main()"
   ]
  },
  {
   "cell_type": "code",
   "execution_count": 13,
   "metadata": {
    "collapsed": false
   },
   "outputs": [
    {
     "data": {
      "text/plain": [
       "11"
      ]
     },
     "execution_count": 13,
     "metadata": {},
     "output_type": "execute_result"
    }
   ],
   "source": [
    "#Access the sensor\n",
    "sensor = Adafruit_DHT.DHT11"
   ]
  },
  {
   "cell_type": "code",
   "execution_count": 14,
   "metadata": {
    "collapsed": true
   },
   "outputs": [],
   "source": [
    "#This is BCM pin. Don't use board pin value which does not work here\n",
    "pin = 24 #Board_pin value is 18"
   ]
  },
  {
   "cell_type": "code",
   "execution_count": 17,
   "metadata": {
    "collapsed": false
   },
   "outputs": [
    {
     "name": "stdout",
     "output_type": "stream",
     "text": [
      "Temp=28.0*C, 82.4*F Humidity=64.0%\n"
     ]
    }
   ],
   "source": [
    "# Try to grab a sensor reading.  Use the read_retry method which will retry up\n",
    "# to 15 times to get a sensor reading (waiting 2 seconds between each retry).\n",
    "humidity, temperature = Adafruit_DHT.read_retry(sensor, pin)\n",
    "\n",
    "# Note that sometimes you won't get a reading and\n",
    "# the results will be null (because Linux can't\n",
    "# guarantee the timing of calls to read the sensor).  \n",
    "# If this happens try again!\n",
    "if humidity is not None and temperature is not None:\n",
    "\tprint 'Temp={0:0.1f}*C, {1:0.1f}*F Humidity={2:0.1f}%'.format(temperature, temperature*1.8+32, humidity)\n",
    "else:\n",
    "\tprint 'Failed to get reading. Try again!'"
   ]
  },
  {
   "cell_type": "code",
   "execution_count": 18,
   "metadata": {
    "collapsed": true
   },
   "outputs": [],
   "source": [
    "Adafruit_DHT.read_retry?"
   ]
  },
  {
   "cell_type": "code",
   "execution_count": null,
   "metadata": {
    "collapsed": true
   },
   "outputs": [],
   "source": []
  },
  {
   "cell_type": "code",
   "execution_count": null,
   "metadata": {
    "collapsed": true
   },
   "outputs": [],
   "source": []
  }
 ],
 "metadata": {
  "kernelspec": {
   "display_name": "Python 2",
   "language": "python",
   "name": "python2"
  },
  "language_info": {
   "codemirror_mode": {
    "name": "ipython",
    "version": 2
   },
   "file_extension": ".py",
   "mimetype": "text/x-python",
   "name": "python",
   "nbconvert_exporter": "python",
   "pygments_lexer": "ipython2",
   "version": "2.7.3"
  }
 },
 "nbformat": 4,
 "nbformat_minor": 0
}
